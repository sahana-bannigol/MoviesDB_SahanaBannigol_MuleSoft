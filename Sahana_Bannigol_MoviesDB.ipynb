{
  "nbformat": 4,
  "nbformat_minor": 0,
  "metadata": {
    "colab": {
      "name": "Sahana_Bannigol_MoviesDB.ipynb",
      "provenance": [],
      "collapsed_sections": []
    },
    "kernelspec": {
      "name": "python3",
      "display_name": "Python 3"
    },
    "language_info": {
      "name": "python"
    }
  },
  "cells": [
    {
      "cell_type": "markdown",
      "metadata": {
        "id": "-HTYY3N9eqCA"
      },
      "source": [
        "Importing SQLite3 Module and Connecting to the Database and Creating a Database"
      ]
    },
    {
      "cell_type": "code",
      "metadata": {
        "id": "MbEE4jLpd2Rz"
      },
      "source": [
        "import sqlite3\n",
        "connection = sqlite3.connect(\"movies.db\")"
      ],
      "execution_count": 37,
      "outputs": []
    },
    {
      "cell_type": "markdown",
      "metadata": {
        "id": "9j4ifdoLe7QY"
      },
      "source": [
        "Creating a cursor to execute queries and Creating a Table"
      ]
    },
    {
      "cell_type": "code",
      "metadata": {
        "colab": {
          "base_uri": "https://localhost:8080/"
        },
        "id": "Il3zez4pfBsP",
        "outputId": "221fb065-67ca-484b-eca4-2d519475f23e"
      },
      "source": [
        "cursor = connection.cursor()\n",
        "cursor.execute(\" CREATE TABLE movies (name TEXT, actor TEXT, actress TEXT, director TEXT, year INTEGER)\")\n"
      ],
      "execution_count": 38,
      "outputs": [
        {
          "output_type": "execute_result",
          "data": {
            "text/plain": [
              "<sqlite3.Cursor at 0x7f896fc3eb90>"
            ]
          },
          "metadata": {},
          "execution_count": 38
        }
      ]
    },
    {
      "cell_type": "markdown",
      "metadata": {
        "id": "7SPgZMQFfvv4"
      },
      "source": [
        "Inserting Values into the Movies Table"
      ]
    },
    {
      "cell_type": "code",
      "metadata": {
        "colab": {
          "base_uri": "https://localhost:8080/"
        },
        "id": "FUPVCxfHf4Ce",
        "outputId": "ed82349b-98d6-4de1-8533-6271bb8afb0e"
      },
      "source": [
        "cursor.execute(\"INSERT INTO movies VALUES('Om Shanti Om','SRK','Deepika Padukone','Farah Khan',2007)\")\n",
        "cursor.execute(\"INSERT INTO movies VALUES('3 Idiots', 'Aamir Khan','Kareena Kapoor','RajKumar Hirani',2009)\")\n",
        "cursor.execute(\"INSERT INTO movies VALUES('Veer-Zara','SRK','Preity Zinta','Yash Chopra',2004)\")\n",
        "cursor.execute(\"INSERT INTO movies VALUES('Main Hoon Na','SRK','Sushmitha Sen','Farah Khan',2004)\")\n",
        "cursor.execute(\"INSERT INTO movies VALUES('Lagaan','Aamir Khan','Gracy Singh','Aushutosh Gowariker',2008)\")"
      ],
      "execution_count": 39,
      "outputs": [
        {
          "output_type": "execute_result",
          "data": {
            "text/plain": [
              "<sqlite3.Cursor at 0x7f896fc3eb90>"
            ]
          },
          "metadata": {},
          "execution_count": 39
        }
      ]
    },
    {
      "cell_type": "markdown",
      "metadata": {
        "id": "sVaUShL6h650"
      },
      "source": [
        "Reading Data from the Database and Simple SELECT statement to query all rows from the Movies table"
      ]
    },
    {
      "cell_type": "code",
      "metadata": {
        "colab": {
          "base_uri": "https://localhost:8080/"
        },
        "id": "1o5oMNZFiCu1",
        "outputId": "0811e2db-a07d-4521-dce3-38c9023d7355"
      },
      "source": [
        "rows = cursor.execute(\"SELECT * FROM movies\").fetchall()\n",
        "for i in rows:\n",
        "  name,actor,actress,director,year = i\n",
        "  print(name+\"\\t\"+actor+\"\\t\"+actress+\"\\t\"+director+\"\\t\"+str(year))\n"
      ],
      "execution_count": 40,
      "outputs": [
        {
          "output_type": "stream",
          "name": "stdout",
          "text": [
            "Om Shanti Om\tSRK\tDeepika Padukone\tFarah Khan\t2007\n",
            "3 Idiots\tAamir Khan\tKareena Kapoor\tRajKumar Hirani\t2009\n",
            "Veer-Zara\tSRK\tPreity Zinta\tYash Chopra\t2004\n",
            "Main Hoon Na\tSRK\tSushmitha Sen\tFarah Khan\t2004\n",
            "Lagaan\tAamir Khan\tGracy Singh\tAushutosh Gowariker\t2008\n"
          ]
        }
      ]
    },
    {
      "cell_type": "markdown",
      "metadata": {
        "id": "3gLuX7Snj9aF"
      },
      "source": [
        "Query with parameter like actor name to select movies based on the actor's name."
      ]
    },
    {
      "cell_type": "code",
      "metadata": {
        "colab": {
          "base_uri": "https://localhost:8080/"
        },
        "id": "0np83ygnkOTB",
        "outputId": "9c644b30-e7cc-450e-ef96-f3d97bb1e8a5"
      },
      "source": [
        "actor_rows = cursor.execute(\"SELECT * FROM movies WHERE actor='SRK'\").fetchall()\n",
        "for i in actor_rows:\n",
        "  name,actor,actress,director,year = i\n",
        "  print(name+\"\\t\"+actor+\"\\t\"+actress+\"\\t\"+director+\"\\t\"+str(year))"
      ],
      "execution_count": 42,
      "outputs": [
        {
          "output_type": "stream",
          "name": "stdout",
          "text": [
            "Om Shanti Om\tSRK\tDeepika Padukone\tFarah Khan\t2007\n",
            "Veer-Zara\tSRK\tPreity Zinta\tYash Chopra\t2004\n",
            "Main Hoon Na\tSRK\tSushmitha Sen\tFarah Khan\t2004\n"
          ]
        }
      ]
    }
  ]
}